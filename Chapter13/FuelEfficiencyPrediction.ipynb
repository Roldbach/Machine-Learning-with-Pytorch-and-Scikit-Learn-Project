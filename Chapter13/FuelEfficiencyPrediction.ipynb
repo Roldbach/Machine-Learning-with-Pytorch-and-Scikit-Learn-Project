{
 "cells": [
  {
   "cell_type": "markdown",
   "metadata": {},
   "source": [
    "<h1><center>Fuel Efficiency Prediction Project</center><h1>"
   ]
  },
  {
   "cell_type": "markdown",
   "metadata": {},
   "source": [
    "### Introduction\n",
    "- This project aims to solve the fuel efficiency prediction of a car using regression model with Pytorch.\n",
    "\n",
    "### Problem Definition\n",
    "- Dataset: Auto MPG dataset, 70% train set, 20% validation set and 10% test set\n",
    "- Each data contains the following features:\n",
    "\n",
    "    1. Cylinder: numerical\n",
    "    1. Displacement: numerical\n",
    "    1. Horsepower: numerical\n",
    "    1. Weight: numerical\n",
    "    1. Acceleration: numerical\n",
    "    1. ModelYear: numerical => ordered categorical to simplify the training\n",
    "    1. Origin: unordered categorical"
   ]
  },
  {
   "cell_type": "markdown",
   "metadata": {},
   "source": [
    "### 1. Dataset"
   ]
  },
  {
   "cell_type": "code",
   "execution_count": 6,
   "metadata": {},
   "outputs": [
    {
     "name": "stdout",
     "output_type": "stream",
     "text": [
      "    MPG  Cylinder  Displacement  Horsepower  Weight  Acceleration  Model Year  \\\n",
      "0  18.0         8         307.0       130.0  3504.0          12.0          70   \n",
      "1  15.0         8         350.0       165.0  3693.0          11.5          70   \n",
      "2  18.0         8         318.0       150.0  3436.0          11.0          70   \n",
      "3  16.0         8         304.0       150.0  3433.0          12.0          70   \n",
      "4  17.0         8         302.0       140.0  3449.0          10.5          70   \n",
      "\n",
      "   Origin  \n",
      "0       1  \n",
      "1       1  \n",
      "2       1  \n",
      "3       1  \n",
      "4       1  \n",
      "    MPG  Cylinder  Displacement  Horsepower    Weight  Acceleration  \\\n",
      "0  18.0  1.483947      1.077290    0.664133  0.620540     -1.285258   \n",
      "1  15.0  1.483947      1.488732    1.574594  0.843334     -1.466724   \n",
      "2  18.0  1.483947      1.182542    1.184397  0.540382     -1.648189   \n",
      "3  16.0  1.483947      1.048584    1.184397  0.536845     -1.285258   \n",
      "4  17.0  1.483947      1.029447    0.924265  0.555706     -1.829655   \n",
      "\n",
      "   Model Year  Origin  \n",
      "0          70       1  \n",
      "1          70       1  \n",
      "2          70       1  \n",
      "3          70       1  \n",
      "4          70       1  \n"
     ]
    }
   ],
   "source": [
    "import pandas as pd\n",
    "\n",
    "from sklearn.preprocessing import StandardScaler\n",
    "\n",
    "def generateDataset() -> pd.DataFrame:\n",
    "    url = \"http://archive.ics.uci.edu/ml/machine-learning-databases/auto-mpg/auto-mpg.data\"\n",
    "    column = [\"MPG\", \"Cylinder\", \"Displacement\", \"Horsepower\", \"Weight\", \"Acceleration\", \"Model Year\", \"Origin\"]\n",
    "\n",
    "    return pd.read_csv(url, names=column, na_values=\"?\", comment=\"\\t\", sep=\" \", skipinitialspace=True)\n",
    "\n",
    "def cleanDataset(dataset:pd.DataFrame) -> pd.DataFrame:\n",
    "    '''\n",
    "        The raw dataset is cleaned by the following steps:\n",
    "        1. Drop rows that contains NA values\n",
    "        2. Normalize columns containing numerical values\n",
    "    '''\n",
    "    dataset = dataset.dropna()\n",
    "    dataset = dataset.reset_index(drop=True)\n",
    "\n",
    "    column = [\"Cylinder\", \"Displacement\", \"Horsepower\", \"Weight\", \"Acceleration\"]\n",
    "    dataset[column] = StandardScaler().fit_transform(dataset[column])\n",
    "\n",
    "    return dataset"
   ]
  }
 ],
 "metadata": {
  "kernelspec": {
   "display_name": "Python 3.10.4",
   "language": "python",
   "name": "python3"
  },
  "language_info": {
   "codemirror_mode": {
    "name": "ipython",
    "version": 3
   },
   "file_extension": ".py",
   "mimetype": "text/x-python",
   "name": "python",
   "nbconvert_exporter": "python",
   "pygments_lexer": "ipython3",
   "version": "3.10.4"
  },
  "orig_nbformat": 4,
  "vscode": {
   "interpreter": {
    "hash": "a3ea2dcf291eca603f1b3e1d1b828966eecb328a680036091e8db55ad6a767aa"
   }
  }
 },
 "nbformat": 4,
 "nbformat_minor": 2
}
