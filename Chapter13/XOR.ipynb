{
 "cells": [
  {
   "cell_type": "markdown",
   "metadata": {},
   "source": [
    "<h1><center>XOR Project</center><h1>"
   ]
  },
  {
   "cell_type": "markdown",
   "metadata": {},
   "source": [
    "### Introduction\n",
    "- This project aims to solve the classical XOR problem by using the machine learning based methods with Pytorch.\n",
    "\n",
    "### Problem Definition\n",
    "- Dataset: 200 training examples, 100 validation examples, 100 test examples\n",
    "- Each example contains 2 features drawn from the unifrom distribution between [-1, 1)\n",
    "- The label is 0 if the product between 2 features is smaller than 0 else 1"
   ]
  },
  {
   "cell_type": "markdown",
   "metadata": {},
   "source": [
    "### 1. Dataset"
   ]
  },
  {
   "cell_type": "code",
   "execution_count": 1,
   "metadata": {},
   "outputs": [],
   "source": [
    "import numpy as np\n",
    "import torch\n",
    "\n",
    "def generateNumpyDataset(size:int, featureNumber:int, seed:int) -> tuple[np.ndarray, np.ndarray]:\n",
    "    '''\n",
    "        Return a dataset with the given size and feature number sampled by the uniform distribution between -1 (included) and 1 (excluded)\n",
    "    \n",
    "    Argument:\n",
    "        size: int, the number of data within the dataset\n",
    "        featureNumber: int, the number of features within one data\n",
    "        seed: int, determine the randomness behaviour\n",
    "    \n",
    "    Return:\n",
    "        dataset: np.ndarray, (the number of data, the number of features)    \n",
    "        label: np.ndarray, (the number of data, )\n",
    "    '''\n",
    "    np.random.seed(seed)\n",
    "\n",
    "    "
   ]
  }
 ],
 "metadata": {
  "kernelspec": {
   "display_name": "Python 3.10.4",
   "language": "python",
   "name": "python3"
  },
  "language_info": {
   "codemirror_mode": {
    "name": "ipython",
    "version": 3
   },
   "file_extension": ".py",
   "mimetype": "text/x-python",
   "name": "python",
   "nbconvert_exporter": "python",
   "pygments_lexer": "ipython3",
   "version": "3.10.4"
  },
  "orig_nbformat": 4,
  "vscode": {
   "interpreter": {
    "hash": "a3ea2dcf291eca603f1b3e1d1b828966eecb328a680036091e8db55ad6a767aa"
   }
  }
 },
 "nbformat": 4,
 "nbformat_minor": 2
}
